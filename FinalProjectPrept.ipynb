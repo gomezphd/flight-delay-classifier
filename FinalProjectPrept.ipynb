{
  "nbformat": 4,
  "nbformat_minor": 0,
  "metadata": {
    "colab": {
      "provenance": [],
      "include_colab_link": true
    },
    "kernelspec": {
      "name": "python3",
      "display_name": "Python 3"
    },
    "language_info": {
      "name": "python"
    }
  },
  "cells": [
    {
      "cell_type": "markdown",
      "metadata": {
        "id": "view-in-github",
        "colab_type": "text"
      },
      "source": [
        "<a href=\"https://colab.research.google.com/github/gomezphd/flight-delay-classifier/blob/main/FinalProjectPrept.ipynb\" target=\"_parent\"><img src=\"https://colab.research.google.com/assets/colab-badge.svg\" alt=\"Open In Colab\"/></a>"
      ]
    },
    {
      "cell_type": "markdown",
      "source": [
        "# Flight Delay Classifier Using Weather Data\n",
        "**Authors:** Barbara Lorenzo & Carlos C. Gomez  \n",
        "**Date:** December 2024\n",
        "\n",
        "# 1. Introduction\n",
        "\n",
        "## 1.1 Project Overview\n",
        "The goal of this project is to develop a binary classifier that predicts whether a flight will be delayed or not, based on both flight data and relevant weather data. Flight delays impact airlines by increasing operational costs and disrupting passengers' schedules, leading to dissatisfaction. If we can accurately predict delays, airlines can proactively mitigate their effects, improving operational efficiency and customer satisfaction.\n",
        "\n",
        "## 1.2 Business Value\n",
        "- Improved customer satisfaction through proactive delay notifications.\n",
        "- Better resource allocation for airlines.\n",
        "- Reduced operational costs through optimized scheduling.\n",
        "- Enhanced decision-making for both airlines and passengers.\n"
      ],
      "metadata": {
        "id": "UMTqV04pj5T2"
      }
    },
    {
      "cell_type": "code",
      "source": [
        "# Importing required libraries\n",
        "import numpy as np\n",
        "import pandas as pd\n",
        "import matplotlib.pyplot as plt\n",
        "import seaborn as sns\n",
        "\n",
        "# For machine learning model creation\n",
        "from sklearn.model_selection import train_test_split\n",
        "from sklearn.preprocessing import StandardScaler, OneHotEncoder\n",
        "from sklearn.compose import ColumnTransformer\n",
        "from sklearn.impute import SimpleImputer\n",
        "from sklearn.pipeline import Pipeline\n",
        "from sklearn.ensemble import RandomForestClassifier\n",
        "from sklearn.linear_model import LogisticRegression\n",
        "from xgboost import XGBClassifier\n",
        "from sklearn.metrics import classification_report, accuracy_score, roc_auc_score, confusion_matrix\n",
        "\n",
        "# For handling and combining multiple datasets\n",
        "from datetime import datetime\n",
        "\n"
      ],
      "metadata": {
        "id": "luCx0CnrpCQG"
      },
      "execution_count": null,
      "outputs": []
    },
    {
      "cell_type": "markdown",
      "source": [
        "# 2. Dataset Selection and Loading\n",
        "\n",
        "## 2.1 Dataset Selection\n",
        "We are using the \"US Flight Delay Data\" from Kaggle along with NOAA Weather Data to capture flight-specific and weather-specific features that may contribute to delays.\n",
        "\n",
        "## 2.2 Dataset Description\n",
        "We will use two datasets:\n",
        "1. **Flight Delay Data**: Historical flight records, including departure/arrival times and delay information.\n",
        "2. **Weather Data**: Corresponding weather conditions at airports during relevant times.\n",
        "\n",
        "## 2.3 Loading the Datasets\n",
        "We will upload the datasets to Google Colab, which will enable us to start the data cleaning, exploration, and preprocessing stages.\n"
      ],
      "metadata": {
        "id": "F4aXrc_Tu3wN"
      }
    },
    {
      "cell_type": "code",
      "source": [
        "\n",
        "# URLs for datasets stored in GitHub repository\n",
        "flight_url = \"https://raw.githubusercontent.com/gomezphd/flight-delay-classifier/main/data/2015-flight-delays/flights.csv\"\n",
        "# weather_url = \"https://raw.githubusercontent.com/gomezphd/flight-delay-classifier/main/data/weather-data/weather_2015.csv\"\n",
        "\n",
        "# Load datasets into DataFrames with error handling\n",
        "try:\n",
        "    flight_data = pd.read_csv(flight_url)\n",
        "    print(\"Flight Data Sample:\")\n",
        "    display(flight_data.head())\n",
        "except Exception as e:\n",
        "    print(f\"Error loading flight data: {e}\")\n",
        "\n",
        "# Uncomment this section once weather data is available\n",
        "# try:\n",
        "#     weather_data = pd.read_csv(weather_url)\n",
        "#     print(\"Weather Data Sample:\")\n",
        "#     display(weather_data.head())\n",
        "# except Exception as e:\n",
        "#     print(f\"Error loading weather data: {e}\")\n",
        "\n",
        "\n"
      ],
      "metadata": {
        "colab": {
          "base_uri": "https://localhost:8080/"
        },
        "id": "oaO04sn3v6GU",
        "outputId": "244c17c3-5cde-48ef-c39b-8545b948529c"
      },
      "execution_count": 2,
      "outputs": [
        {
          "output_type": "stream",
          "name": "stdout",
          "text": [
            "Error loading flight data: HTTP Error 404: Not Found\n"
          ]
        }
      ]
    },
    {
      "cell_type": "markdown",
      "source": [],
      "metadata": {
        "id": "yMCTGC-pu3tU"
      }
    },
    {
      "cell_type": "markdown",
      "source": [],
      "metadata": {
        "id": "GwPzcbQRu3qb"
      }
    },
    {
      "cell_type": "markdown",
      "source": [],
      "metadata": {
        "id": "L43muxb7u3nA"
      }
    },
    {
      "cell_type": "markdown",
      "source": [
        "# 1. Dataset Selection and Problem Statement\n",
        "\n",
        "## 1.1 Dataset Selection\n",
        "For this project, we are using datasets that contain information on flights and weather conditions. Specifically, we will combine the \"US Flight Delay Data\" from Kaggle with weather data from NOAA. This combination will allow us to capture both the flight-specific and weather-specific variables that may contribute to delays.\n",
        "\n",
        "\n"
      ],
      "metadata": {
        "id": "zkymSswckJGQ"
      }
    },
    {
      "cell_type": "markdown",
      "source": [],
      "metadata": {
        "id": "vMgfzzYcraS0"
      }
    },
    {
      "cell_type": "code",
      "source": [
        "# Upload flight dataset from local (you will be prompted to select a file)\n",
        "uploaded = files.upload()\n",
        "\n",
        "# Load flight dataset into a DataFrame\n",
        "flight_data = pd.read_csv('flight_delay_data.csv') # replace with your file's name\n"
      ],
      "metadata": {
        "id": "sLPnkCpXpFt0"
      },
      "execution_count": null,
      "outputs": []
    },
    {
      "cell_type": "code",
      "source": [
        "# Upload weather dataset from local (you will be prompted to select a file)\n",
        "uploaded = files.upload()\n",
        "\n",
        "# Load weather dataset into a DataFrame\n",
        "weather_data = pd.read_csv('weather_data.csv') # replace with your file's name\n"
      ],
      "metadata": {
        "id": "mvBQ4wxbpLv5"
      },
      "execution_count": null,
      "outputs": []
    },
    {
      "cell_type": "markdown",
      "source": [
        "# 2. Data Cleaning and Preprocessing\n",
        "\n",
        "## 2.1 Data Cleaning Plan\n",
        "1. **Handling Missing Values**: Missing data will be addressed by using imputation techniques like interpolation for numerical features or by dropping rows with critical missing values.\n",
        "2. **Converting Categorical Variables**: We will convert categorical variables such as airline codes into numerical formats using one-hot encoding, which allows the classifier to process these features effectively.\n",
        "3. **Scaling Numeric Features**: Numeric features such as temperature, wind speed, and visibility will be scaled using either **normalization** or **standardization**. This will ensure that our model is not biased by different value ranges.\n",
        "4. **Dataset Integration**: The flight and weather datasets will be combined based on **timestamps** and **location identifiers** to ensure proper alignment.\n",
        "5. **Feature Engineering**: New features such as a \"bad weather\" indicator will be created to capture severe weather conditions that are likely to influence flight delays.\n"
      ],
      "metadata": {
        "id": "Tm1DKdFikMxG"
      }
    },
    {
      "cell_type": "markdown",
      "source": [
        "# 3. Exploratory Data Analysis (EDA)\n",
        "\n",
        "## 3.1 Univariate Analysis\n",
        "- We will perform univariate analysis to examine the distributions of flight delays, weather conditions (e.g., temperature, precipitation), and flight schedule variables (e.g., departure times).\n",
        "\n",
        "## 3.2 Bivariate Analysis\n",
        "- Bivariate analysis will help us understand the relationships between weather conditions and flight delays. For example, we will analyze how different weather features (e.g., wind speed, visibility) correlate with delays.\n",
        "\n",
        "## 3.3 Multivariate Analysis\n",
        "- Multivariate analysis will allow us to explore interactions among multiple features, such as how airline, weather, and flight schedule jointly affect the likelihood of delays.\n",
        "\n",
        "**Visualizations** will be created using **Matplotlib** and **Seaborn** to illustrate these relationships and uncover any important patterns that may guide feature selection and model building.\n"
      ],
      "metadata": {
        "id": "0JFWVrN9ms-V"
      }
    },
    {
      "cell_type": "markdown",
      "source": [
        "# 4. Model Selection and Implementation\n",
        "\n",
        "We will develop and compare several classification models, including **Logistic Regression**, **Random Forest**, and **XGBoost**, to predict whether a flight will be delayed. Below is our modeling plan:\n",
        "\n",
        "## 4.1 Logistic Regression\n",
        "- As a baseline model, Logistic Regression provides a simple linear decision boundary to assess initial feature correlations.\n",
        "\n",
        "## 4.2 Random Forest\n",
        "- An ensemble-based classifier that captures non-linear relationships and is less prone to overfitting compared to individual decision trees.\n",
        "\n",
        "## 4.3 XGBoost\n",
        "- A more sophisticated gradient boosting algorithm known for excellent performance on tabular data, especially with heterogeneous features.\n",
        "\n",
        "The models will be evaluated using metrics such as **accuracy**, **precision**, **recall**, **F1-score**, and **AUC-ROC** to determine which approach best suits our problem.\n"
      ],
      "metadata": {
        "id": "jW73ruAwms7m"
      }
    },
    {
      "cell_type": "markdown",
      "source": [
        "# 5. Business Report Summary\n",
        "\n",
        "## 5.1 Introduction\n",
        "- The objective of this project is to predict flight delays by using both flight-specific and weather-related data. This can help airlines proactively manage scheduling and improve resource utilization.\n",
        "\n",
        "## 5.2 Methods\n",
        "- **Data Cleaning and Preprocessing**: Missing data imputation, categorical encoding, and feature scaling.\n",
        "- **Modeling**: We tested multiple models including Logistic Regression, Random Forest, and XGBoost, optimizing their hyperparameters for the best results.\n",
        "\n",
        "## 5.3 Results\n",
        "- We will summarize our findings, including model performance metrics and key insights on which factors are most influential in predicting delays.\n",
        "\n",
        "## 5.4 Conclusion\n",
        "- Predicting flight delays allows airlines to mitigate their effects through better scheduling and operational adjustments. However, limitations include potential inaccuracies in weather data and the unpredictability of operational disruptions.\n"
      ],
      "metadata": {
        "id": "eTuEkeAims5C"
      }
    },
    {
      "cell_type": "markdown",
      "source": [
        "# 6. Innovation and Creativity\n",
        "\n",
        "## 6.1 Enhancements and Creative Methods\n",
        "- We will apply **weather severity indices** to improve predictions, combining weather features into a single \"severity\" measure to see how well it correlates with delays.\n",
        "- **Ensemble Modeling**: We plan to use an ensemble approach, combining **Random Forest** and **XGBoost** to enhance prediction robustness.\n",
        "- **Advanced Visualizations**: To better convey trends, we will create **animated visualizations** that show changes in flight status and delays over time.\n"
      ],
      "metadata": {
        "id": "6l85klFLms2C"
      }
    },
    {
      "cell_type": "markdown",
      "source": [
        "# 7. Timeline and Submission\n",
        "\n",
        "## 7.1 Proposed Timeline\n",
        "- **Day _**: Dataset exploration and cleaning.\n",
        "- **Day _**: Conduct EDA and perform feature engineering.\n",
        "- **Day __**: Model selection, training, and testing.\n",
        "- **Day __**: Write the business report summarizing our project.\n",
        "- **Day __**: Finalize all deliverables and submit.\n",
        "\n",
        "## 7.2 Deliverables\n",
        "- **Colab Notebook**: Submitted as both `.ipynb` and `.html`.\n",
        "- **Business Report**: A well-polished PDF covering all aspects of the project.\n"
      ],
      "metadata": {
        "id": "KXVvDZaOmszY"
      }
    }
  ]
}